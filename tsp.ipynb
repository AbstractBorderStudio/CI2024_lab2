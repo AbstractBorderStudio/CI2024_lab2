{
 "cells": [
  {
   "cell_type": "markdown",
   "metadata": {},
   "source": [
    "# Computational Intelligence CI2024_lab2\n",
    "> - Author: Daniel Bologna\n",
    "> - ID: 310582\n",
    "\n",
    "## The Traveling Salesman Problem\n",
    "- [Travelling salesman problem - Wikipedia](https://en.wikipedia.org/wiki/Travelling_salesman_problem)"
   ]
  },
  {
   "cell_type": "markdown",
   "metadata": {},
   "source": [
    "### Import libraries"
   ]
  },
  {
   "cell_type": "code",
   "execution_count": 16,
   "metadata": {},
   "outputs": [],
   "source": [
    "import functools\n",
    "import logging\n",
    "from itertools import combinations # Return r length subsequences of elements from the input iterable.\n",
    "import pandas as pd\n",
    "import numpy as np\n",
    "from geopy.distance import geodesic ## compute distance between points\n",
    "import networkx as nx\n",
    "import matplotlib.pyplot as plt\n",
    "from tqdm.auto import tqdm\n",
    "import random\n",
    "\n",
    "from icecream import ic\n",
    "logging.basicConfig(level=logging.DEBUG)\n",
    "\n",
    "from dataclasses import dataclass\n",
    "\n",
    "from enum import Enum"
   ]
  },
  {
   "cell_type": "markdown",
   "metadata": {},
   "source": [
    "## DATA LOADING"
   ]
  },
  {
   "cell_type": "code",
   "execution_count": 17,
   "metadata": {},
   "outputs": [],
   "source": [
    "def _load_cities(city_name : str) -> tuple[pd.DataFrame, np.ndarray]:\n",
    "    \"\"\"Loads TSP cities from CSV file.\n",
    "    Args:\n",
    "        city_file_path (str): The name of the city.\n",
    "    Returns:\n",
    "        tuple[pd.DataFrame, np.ndarray]\n",
    "    \"\"\"\n",
    "    CITIES = pd.read_csv(f'cities/{city_name}.csv', header=None, names=['name', 'lat', 'lon'])\n",
    "    DIST_MATRIX = np.zeros((len(CITIES), len(CITIES)))\n",
    "    for c1, c2 in combinations(CITIES.itertuples(), 2):\n",
    "        DIST_MATRIX[c1.Index, c2.Index] = DIST_MATRIX[c2.Index, c1.Index] = geodesic(\n",
    "            (c1.lat, c1.lon), (c2.lat, c2.lon)\n",
    "        ).km\n",
    "    return CITIES, DIST_MATRIX\n",
    "\n",
    "def _to_pandas_table(matrix, x_names=None, y_names=None):\n",
    "    \"\"\"Returns a dataframe from a matrix\"\"\"\n",
    "    return pd.DataFrame(matrix, index=x_names, columns=y_names)"
   ]
  },
  {
   "cell_type": "code",
   "execution_count": 18,
   "metadata": {},
   "outputs": [
    {
     "data": {
      "text/html": [
       "<div>\n",
       "<style scoped>\n",
       "    .dataframe tbody tr th:only-of-type {\n",
       "        vertical-align: middle;\n",
       "    }\n",
       "\n",
       "    .dataframe tbody tr th {\n",
       "        vertical-align: top;\n",
       "    }\n",
       "\n",
       "    .dataframe thead th {\n",
       "        text-align: right;\n",
       "    }\n",
       "</style>\n",
       "<table border=\"1\" class=\"dataframe\">\n",
       "  <thead>\n",
       "    <tr style=\"text-align: right;\">\n",
       "      <th></th>\n",
       "      <th>name</th>\n",
       "      <th>lat</th>\n",
       "      <th>lon</th>\n",
       "    </tr>\n",
       "  </thead>\n",
       "  <tbody>\n",
       "    <tr>\n",
       "      <th>0</th>\n",
       "      <td>Isangel</td>\n",
       "      <td>-19.53</td>\n",
       "      <td>169.28</td>\n",
       "    </tr>\n",
       "    <tr>\n",
       "      <th>1</th>\n",
       "      <td>Lakatoro</td>\n",
       "      <td>-16.09</td>\n",
       "      <td>167.40</td>\n",
       "    </tr>\n",
       "    <tr>\n",
       "      <th>2</th>\n",
       "      <td>Longana</td>\n",
       "      <td>-15.30</td>\n",
       "      <td>168.00</td>\n",
       "    </tr>\n",
       "    <tr>\n",
       "      <th>3</th>\n",
       "      <td>Luganville</td>\n",
       "      <td>-15.51</td>\n",
       "      <td>167.15</td>\n",
       "    </tr>\n",
       "    <tr>\n",
       "      <th>4</th>\n",
       "      <td>Norsup</td>\n",
       "      <td>-16.07</td>\n",
       "      <td>167.39</td>\n",
       "    </tr>\n",
       "    <tr>\n",
       "      <th>5</th>\n",
       "      <td>Port Olry</td>\n",
       "      <td>-15.05</td>\n",
       "      <td>167.05</td>\n",
       "    </tr>\n",
       "    <tr>\n",
       "      <th>6</th>\n",
       "      <td>Sola</td>\n",
       "      <td>-13.87</td>\n",
       "      <td>167.55</td>\n",
       "    </tr>\n",
       "    <tr>\n",
       "      <th>7</th>\n",
       "      <td>Vila</td>\n",
       "      <td>-17.74</td>\n",
       "      <td>168.31</td>\n",
       "    </tr>\n",
       "  </tbody>\n",
       "</table>\n",
       "</div>"
      ],
      "text/plain": [
       "         name    lat     lon\n",
       "0     Isangel -19.53  169.28\n",
       "1    Lakatoro -16.09  167.40\n",
       "2     Longana -15.30  168.00\n",
       "3  Luganville -15.51  167.15\n",
       "4      Norsup -16.07  167.39\n",
       "5   Port Olry -15.05  167.05\n",
       "6        Sola -13.87  167.55\n",
       "7        Vila -17.74  168.31"
      ]
     },
     "execution_count": 18,
     "metadata": {},
     "output_type": "execute_result"
    }
   ],
   "source": [
    "city_name = \"vanuatu\"\n",
    "CITIES, DIST_MATRIX = _load_cities(city_name)\n",
    "CITIES.head(10)"
   ]
  },
  {
   "cell_type": "code",
   "execution_count": 20,
   "metadata": {},
   "outputs": [],
   "source": [
    "def counter(fn):\n",
    "    \"\"\"Simple decorator for counting number of calls\"\"\"\n",
    "\n",
    "    @functools.wraps(fn)\n",
    "    def helper(*args, **kargs):\n",
    "        helper.calls += 1\n",
    "        return fn(*args, **kargs)\n",
    "\n",
    "    helper.calls = 0\n",
    "    return helper\n",
    "\n",
    "@counter\n",
    "def tsp_cost(tsp : np.ndarray) -> float:\n",
    "    \"\"\"Compute the cost of the path as the sum of the cities' distances.\"\"\"\n",
    "    assert tsp[0] == tsp[-1]\n",
    "    assert set(tsp) == set(range(len(CITIES)))\n",
    "\n",
    "    tot_cost = 0.0\n",
    "    for c1, c2 in zip(tsp, tsp[1:]):\n",
    "        tot_cost += DIST_MATRIX[c1, c2]\n",
    "    return tot_cost"
   ]
  },
  {
   "cell_type": "markdown",
   "metadata": {},
   "source": [
    "# Visualization\n",
    "\n",
    "Simple function that plot a graph"
   ]
  },
  {
   "cell_type": "code",
   "execution_count": 21,
   "metadata": {},
   "outputs": [],
   "source": [
    "def _print_graph(solution, points=True, lines=True, p_color = \"red\", l_color = \"red\", title=\"\"):\n",
    "    \"\"\"Plot the graph from a coordinate matrix\"\"\"\n",
    "    coord = [\n",
    "        [CITIES.at[i, \"lon\"] for i in solution],\n",
    "        [CITIES.at[i, \"lat\"] for i in solution]\n",
    "    ]\n",
    "    plt.axis(\"off\")\n",
    "    plt.title(title)\n",
    "    if points: plt.scatter( coord[0], coord[1], color=p_color)\n",
    "    if lines: plt.plot( coord[0], coord[1], color=l_color)\n",
    "    plt.show()"
   ]
  },
  {
   "cell_type": "code",
   "execution_count": 22,
   "metadata": {},
   "outputs": [],
   "source": [
    "def fitness(sequence):\n",
    "    return -tsp_cost(sequence)"
   ]
  },
  {
   "cell_type": "markdown",
   "metadata": {},
   "source": [
    "# Nearest Neighbor approach\n",
    "\n",
    "> Start from a point, then choose the nearest point in the list of cities. Repeat until completion. "
   ]
  },
  {
   "cell_type": "code",
   "execution_count": 23,
   "metadata": {},
   "outputs": [
    {
     "name": "stderr",
     "output_type": "stream",
     "text": [
      "ic| final_cost: '1475.528091104531 km', tsp_cost.calls: 1001\n"
     ]
    },
    {
     "data": {
      "image/png": "[encoded data removed]",
      "text/plain": [
       "<Figure size 640x480 with 1 Axes>"
      ]
     },
     "metadata": {},
     "output_type": "display_data"
    }
   ],
   "source": [
    "def _nn_approach(cities, dist_mat):\n",
    "    visited = np.full(len(cities), False)\n",
    "    dist = dist_mat.copy()\n",
    "\n",
    "    # Choose a random city to start\n",
    "    city = np.random.randint(0, len(cities))\n",
    "\n",
    "    # Create a solution as a list of integers (city's index)\n",
    "    tsp_sol = list()\n",
    "\n",
    "    # Append the first city to the solution and mark as visited\n",
    "    tsp_sol.append(int(city))\n",
    "    visited[city] = True\n",
    "\n",
    "    while not np.all(visited):\n",
    "        # Set the city's column as inf distance to avoid \n",
    "        # calculating the distance between a city and itself\n",
    "        dist[:, city] = np.inf\n",
    "\n",
    "        # Find the closest city\n",
    "        closest = np.argmin(dist[city])\n",
    "\n",
    "        # Mark it as visited, push it to the solution and se the current city as the closest\n",
    "        visited[closest] = True\n",
    "        city = closest\n",
    "        tsp_sol.append(int(city))\n",
    "\n",
    "    # In the end add the first city at the end to create a cycle\n",
    "    tsp_sol.append(int(tsp_sol[0]))\n",
    "    return tsp_sol\n",
    "\n",
    "EPOCHS = 1000\n",
    "tsp_sol = _nn_approach(CITIES, DIST_MATRIX)\n",
    "tsp_fit = fitness(tsp_sol)\n",
    "for i in range(EPOCHS):\n",
    "    new_tsp_sol = _nn_approach(CITIES, DIST_MATRIX)\n",
    "    new_tsp_fit = fitness(new_tsp_sol)\n",
    "    if new_tsp_fit > tsp_fit:\n",
    "        tsp_sol = new_tsp_sol\n",
    "        tsp_fit = new_tsp_fit\n",
    "\n",
    "# Print the result and plot the graph\n",
    "final_cost = f\"{abs(tsp_fit)} km\"\n",
    "ic(final_cost, tsp_cost.calls)\n",
    "_print_graph(tsp_sol, p_color=\"black\", title=f\"Nearest Neighbor: {city_name}\")"
   ]
  },
  {
   "cell_type": "markdown",
   "metadata": {},
   "source": [
    "# EA approach"
   ]
  },
  {
   "cell_type": "code",
   "execution_count": null,
   "metadata": {},
   "outputs": [],
   "source": [
    "@dataclass\n",
    "class Individual:\n",
    "    genome: np.ndarray\n",
    "    fitness : float = None"
   ]
  },
  {
   "cell_type": "markdown",
   "metadata": {},
   "source": [
    "## SETTINGS"
   ]
  },
  {
   "cell_type": "code",
   "execution_count": 25,
   "metadata": {},
   "outputs": [],
   "source": [
    "class SEL_TYPE(Enum):\n",
    "    UNIFORM = 0\n",
    "    TOURNAMENT = 1\n",
    "\n",
    "class XO_TYPE(Enum):\n",
    "    INV_OVER = 0\n",
    "\n",
    "class MUT_TYPE(Enum):\n",
    "    INSERT = 0\n",
    "    INV = 1\n",
    "\n",
    "class HEURISTIC_TYPE(Enum):\n",
    "    CLASSIC = 0\n",
    "    MODERN = 1\n",
    "    HYPER_MODERN = 2\n",
    "\n",
    "\n",
    "POPULATION_SIZE = 100\n",
    "OFFSPRING_SIZE = 1_000\n",
    "MAX_GENERATIONS = 1_000\n",
    "GEN_OP_PROBABILITY = .4\n",
    "\n",
    "TOURNAMENT_SIZE = 3\n",
    "\n",
    "## best so far\n",
    "# stedy state\n",
    "# mutation(p, type=MUT_TYPE.INV)\n",
    "# POPULATION_SIZE = 100\n",
    "# OFFSPRING_SIZE = 1_000\n",
    "# MAX_GENERATIONS = 1_000\n",
    "# GEN_OP_PROBABILITY = .4\n",
    "\n",
    "# TOURNAMENT_SIZE = 3"
   ]
  },
  {
   "cell_type": "code",
   "execution_count": 26,
   "metadata": {},
   "outputs": [],
   "source": [
    "def parent_selection(population, type=SEL_TYPE.UNIFORM):\n",
    "    if type == SEL_TYPE.UNIFORM:\n",
    "        candidates = sorted(population, key=lambda c: c.fitness, reverse=True)\n",
    "        return candidates[0]\n",
    "    if type == SEL_TYPE.TOURNAMENT:\n",
    "        candidates = sorted(np.random.choice(population, TOURNAMENT_SIZE, replace=False),\n",
    "                            key=lambda c: c.fitness,\n",
    "                            reverse=True)\n",
    "        return candidates[0]\n",
    "        \n",
    "\n",
    "def mutation(p, type=MUT_TYPE.INSERT):\n",
    "    if type == MUT_TYPE.INSERT:\n",
    "        # get two random elements\n",
    "        indices = sorted(np.random.choice(p.genome, 2, replace=False), key=lambda x:x)\n",
    "\n",
    "        o = p.genome[0:indices[0]] + [p.genome[indices[0]],p.genome[indices[1]]] + p.genome[indices[0] + 1: indices[1]] + p.genome[indices[1] + 1: len(p.genome)]\n",
    "        return Individual(genome=o, fitness=fitness(o+[o[0]]))\n",
    "    elif type == MUT_TYPE.INV:\n",
    "        # get two random indices\n",
    "        indices = sorted(np.random.choice(p.genome, 2, replace=False), key=lambda x:x)\n",
    "        # invert the genome squend between the two indices\n",
    "        o = p.genome[0:indices[0]] + p.genome[indices[0]: indices[1]+1][::-1] + p.genome[indices[1] + 1: len(p.genome)]\n",
    "        return Individual(genome=o, fitness=fitness(o+[o[0]]))\n",
    "\n",
    "\n",
    "def xover(p1, p2, type=XO_TYPE.INV_OVER):\n",
    "    \"\"\"Simple invert over crossover\"\"\"\n",
    "    if type == XO_TYPE.INV_OVER:\n",
    "        # Get random edge from second parent\n",
    "        index = np.random.randint(0, len(p2.genome) - 1)\n",
    "        edge = [p2.genome[index], p2.genome[index+1]]\n",
    "\n",
    "        # get the edge's vertices indices from the first parent\n",
    "        edge_inices = [p1.genome.index(i) for i in edge]\n",
    "        edge_inices = sorted(edge_inices, key=lambda x: x)\n",
    "\n",
    "        # combine the data to get the offspring\n",
    "        o = p1.genome[0:edge_inices[0]] + edge + p1.genome[edge_inices[0]+1:edge_inices[1]][::-1] + p1.genome[edge_inices[1]+1:len(p1.genome)]\n",
    "        return Individual(genome=o, fitness=fitness(o+[o[0]]))"
   ]
  },
  {
   "cell_type": "code",
   "execution_count": 27,
   "metadata": {},
   "outputs": [],
   "source": [
    "# Generate population\n",
    "def _init_population():\n",
    "    population = list()\n",
    "    for i in range(POPULATION_SIZE):\n",
    "        genome = _nn_approach(CITIES, DIST_MATRIX)[: len(CITIES)]\n",
    "        population.append(Individual(genome=genome, fitness=fitness(genome + [genome[0]]))) # leve out the last item but consider it for the fitness\n",
    "    return population"
   ]
  },
  {
   "cell_type": "markdown",
   "metadata": {},
   "source": [
    "## GENETIC OPERATORS"
   ]
  },
  {
   "cell_type": "code",
   "execution_count": null,
   "metadata": {},
   "outputs": [],
   "source": [
    "def _modern_go(population, offspring, sel_type=SEL_TYPE.TOURNAMENT):\n",
    "    \"\"\"Modern recombination and mutation\"\"\"\n",
    "    offspring = list()\n",
    "    for _ in range(OFFSPRING_SIZE):\n",
    "        # USING MODERN APPROACH:\n",
    "        # Perform xover\n",
    "        # take 2 parents\n",
    "        p1 = parent_selection(population, type=sel_type)\n",
    "        p2 = parent_selection(population, type=sel_type)\n",
    "        # recombine them\n",
    "        o = xover(p1, p2)\n",
    "        \n",
    "        if np.random.random() < GEN_OP_PROBABILITY:\n",
    "            # Perform MUTATION usign the offspring with certain probability\n",
    "            # mutate the parent to get the offspring\n",
    "            mut = mutation(o)\n",
    "            # put the result in the offspring\n",
    "            offspring.append(mut)\n",
    "        else:\n",
    "            # put the result in the offspring\n",
    "            offspring.append(o)    \n",
    "    return offspring\n",
    "\n",
    "def _hyper_modern_go(population, offspring, sel_type=SEL_TYPE.TOURNAMENT):\n",
    "    \"\"\"Hyper modern recombination and mutation\"\"\"\n",
    "    offspring = list()\n",
    "    for _ in range(OFFSPRING_SIZE):\n",
    "        # USING HYPER MODERN APPROACH:\n",
    "        # RANDOMLY CHOOSE GENETIC OP\n",
    "        if np.random.random() < GEN_OP_PROBABILITY:\n",
    "            # DO MUTATION\n",
    "            # take 1 parent\n",
    "            p = parent_selection(population, type=sel_type)\n",
    "            # mutate the parent to get the offspring\n",
    "            o = mutation(p, type=MUT_TYPE.INV)\n",
    "        else:\n",
    "            # DO XOVER\n",
    "            # take 2 parents\n",
    "            p1 = parent_selection(population, type=sel_type)\n",
    "            p2 = parent_selection(population, type=sel_type)\n",
    "            # recombine them\n",
    "            o = xover(p1, p2)\n",
    "        \n",
    "        # put the result in the offspring\n",
    "        offspring.append(o)\n",
    "    return offspring"
   ]
  },
  {
   "cell_type": "markdown",
   "metadata": {},
   "source": [
    "## STEP"
   ]
  },
  {
   "cell_type": "code",
   "execution_count": 29,
   "metadata": {},
   "outputs": [],
   "source": [
    "def _step(population, type=HEURISTIC_TYPE.HYPER_MODERN):\n",
    "    # Select geneti operator\n",
    "    offspring = list()\n",
    "    if type == HEURISTIC_TYPE.MODERN:\n",
    "        offspring = _modern_go(population, offspring)\n",
    "    elif type == HEURISTIC_TYPE.HYPER_MODERN:\n",
    "        offspring = _hyper_modern_go(population, offspring)\n",
    "\n",
    "    # steady state\n",
    "    # In the end add the newly generated offspring to the population\n",
    "    population.extend(offspring)\n",
    "    population.sort(key=lambda i : i.fitness, reverse=True)\n",
    "\n",
    "    # SURVIVOR SELECTION\n",
    "    # Go for a simple survivor selection and return to the population size\n",
    "    population = population[:POPULATION_SIZE]\n",
    "\n",
    "    # # generational\n",
    "    # population = sorted(offspring, key=lambda i : i.fitness, reverse=True)\n",
    "    # population = population[:POPULATION_SIZE]\n",
    "\n",
    "    return population"
   ]
  },
  {
   "cell_type": "code",
   "execution_count": 30,
   "metadata": {},
   "outputs": [
    {
     "data": {
      "application/vnd.jupyter.widget-view+json": {
       "model_id": "1ccb53a8dda349a7964c436c1fa546cb",
       "version_major": 2,
       "version_minor": 0
      },
      "text/plain": [
       "  0%|          | 0/1000 [00:00<?, ?it/s]"
      ]
     },
     "metadata": {},
     "output_type": "display_data"
    },
    {
     "name": "stderr",
     "output_type": "stream",
     "text": [
      "ic| tsp_cost(best_sol): 1345.544956473311, tsp_cost.calls: 1001102\n"
     ]
    },
    {
     "data": {
      "image/png": "[encoded data removed]",
      "text/plain": [
       "<Figure size 640x480 with 1 Axes>"
      ]
     },
     "metadata": {},
     "output_type": "display_data"
    }
   ],
   "source": [
    "# Create a starting population\n",
    "starting_population = _init_population()\n",
    "current_solution = starting_population.copy()\n",
    "best_so_far = current_solution[0]\n",
    "\n",
    "# Iterate for MAX_GENERATIONS steps every time getting the best solution\n",
    "for i in tqdm(range(MAX_GENERATIONS)):\n",
    "    current_solution = _step(current_solution, HEURISTIC_TYPE.HYPER_MODERN)\n",
    "    if current_solution[0].fitness > best_so_far.fitness:\n",
    "        best_so_far = current_solution[0]\n",
    "\n",
    "# Add the first item to the end of the solution to close the loop\n",
    "best_sol = best_so_far.genome\n",
    "best_sol = best_sol + [best_sol[0]]\n",
    "\n",
    "# Print data e plot the final graph\n",
    "ic(tsp_cost(best_sol), tsp_cost.calls - 1001)\n",
    "_print_graph(best_sol, p_color=\"black\", title=f\"EA: {city_name}\")"
   ]
  }
 ],
 "metadata": {
  "kernelspec": {
   "display_name": ".venv",
   "language": "python",
   "name": "python3"
  },
  "language_info": {
   "codemirror_mode": {
    "name": "ipython",
    "version": 3
   },
   "file_extension": ".py",
   "mimetype": "text/x-python",
   "name": "python",
   "nbconvert_exporter": "python",
   "pygments_lexer": "ipython3",
   "version": "3.12.7"
  }
 },
 "nbformat": 4,
 "nbformat_minor": 2
}
